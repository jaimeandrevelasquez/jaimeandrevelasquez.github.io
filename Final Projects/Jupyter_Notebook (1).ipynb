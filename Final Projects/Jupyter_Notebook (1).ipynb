{
 "cells": [
  {
   "cell_type": "markdown",
   "metadata": {},
   "source": [
    "<center>\n",
    "    <img src=\"https://cf-courses-data.s3.us.cloud-object-storage.appdomain.cloud/IBMDeveloperSkillsNetwork-DS0105EN-SkillsNetwork/labs/Module2/images/SN_web_lightmode.png\" width=\"300\" alt=\"cognitiveclass.ai logo\">\n",
    "</center>\n"
   ]
  },
  {
   "cell_type": "markdown",
   "metadata": {},
   "source": [
    "#### Add your code below following the instructions given in the course\n"
   ]
  },
  {
   "cell_type": "markdown",
   "metadata": {},
   "source": [
    "### My final Project"
   ]
  },
  {
   "cell_type": "markdown",
   "metadata": {},
   "source": [
    "## Introduction\n",
    "\n",
    "This is my final project for Tools for Data Science Course."
   ]
  },
  {
   "cell_type": "markdown",
   "metadata": {},
   "source": [
    "## Data Science Languages\n",
    "\n",
    "Here are some of the most popular data science languages:\n",
    "\n",
    "- Python\n",
    "- R\n",
    "- SQL\n",
    "- Scala\n",
    "- Julia\n",
    "- Javascript"
   ]
  },
  {
   "cell_type": "markdown",
   "metadata": {},
   "source": [
    "## Data Science Libraries\n",
    "\n",
    "Here are some of the most popular data science libraries:\n",
    "\n",
    "- NumPy\n",
    "- Pandas\n",
    "- Seaborn\n",
    "- Matplotlib\n",
    "- Tensorflow\n",
    "- PyTorch\n",
    "- Caret"
   ]
  },
  {
   "cell_type": "markdown",
   "metadata": {},
   "source": [
    "## Table of data science tools\n",
    "\n",
    "Category\tTools and Technologies\n",
    "Programming Languages\tPython, R, SQL, Julia, Scala, MATLAB, SAS\n",
    "Data Manipulation\tPandas, NumPy, dplyr, tidyr, SQL\n",
    "Data Visualization\tMatplotlib, Seaborn, ggplot2, Tableau, Plotly\n",
    "Machine Learning\tscikit-learn, TensorFlow, Keras, PyTorch, caret, randomForest\n",
    "Deep Learning\tTensorFlow, Keras, PyTorch, Caffe, MXNet\n",
    "Big Data Processing\tApache Spark, Hadoop, Hive, Pig, Apache Flink\n",
    "Natural Language Processing\tNLTK (Natural Language Toolkit), spaCy, Gensim"
   ]
  },
  {
   "cell_type": "markdown",
   "metadata": {},
   "source": [
    "## Arithmetic Expressions\n",
    "\n",
    "Arithmetic expressions are mathematical expressions that involve operations, such as addition, subtraction, multiplication, and division. For example:\n",
    "- 6+3\n",
    "- 18/6\n",
    "- (6 + 2) * 3\n"
   ]
  },
  {
   "cell_type": "code",
   "execution_count": null,
   "metadata": {},
   "outputs": [],
   "source": [
    "(9*2)+15"
   ]
  },
  {
   "cell_type": "code",
   "execution_count": null,
   "metadata": {},
   "outputs": [],
   "source": [
    "num_minutes=input('Introduce the number of minutes: ')\n",
    "num_hours=num_minutes/60\n",
    "print('That is ' + num_hours + 'hours')"
   ]
  },
  {
   "cell_type": "markdown",
   "metadata": {},
   "source": [
    "## Objectives\n",
    "\n",
    "- Create a Jupiter Notebook.\n",
    "- Create a Github Repository.\n",
    "- Upload the notebook to the repository."
   ]
  },
  {
   "cell_type": "markdown",
   "metadata": {},
   "source": [
    "## Author: Jaime Andre Velasquez Moscoso"
   ]
  }
 ],
 "metadata": {
  "kernelspec": {
   "display_name": "Python",
   "language": "python",
   "name": "conda-env-python-py"
  },
  "language_info": {
   "codemirror_mode": {
    "name": "ipython",
    "version": 3
   },
   "file_extension": ".py",
   "mimetype": "text/x-python",
   "name": "python",
   "nbconvert_exporter": "python",
   "pygments_lexer": "ipython3",
   "version": "3.7.12"
  }
 },
 "nbformat": 4,
 "nbformat_minor": 4
}
